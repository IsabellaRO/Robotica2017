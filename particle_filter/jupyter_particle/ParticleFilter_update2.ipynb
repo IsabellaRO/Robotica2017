{
 "cells": [
  {
   "cell_type": "markdown",
   "metadata": {
    "deletable": true,
    "editable": true
   },
   "source": [
    "# Filtro de partículas\n",
    "\n",
    "\n",
    "Cada partícula vai ser representada por uma lista [x,y,theta]\n",
    "\n",
    "Trabalhe com 2 listas:\n",
    "\n",
    "\tS = []  # Vai conter as n partículas. \n",
    "\n",
    "\tW = [] # Pesos das partículas\n",
    "\n",
    "\tn_part = # Número de partículas\n",
    "\n",
    "\n",
    "# Atividades\n",
    "\n",
    "\n",
    "1. Crie uma função que gere n partículas aleatórias distribuidas uniformemente dentro de uma área minx, miny, maxx, maxy (passados como parâmetros). Veja a funcao \n",
    "\n",
    "\tDevolve uma lista com n partículas\n",
    "\n",
    "2. Descubra como desenhar as n partículas (analise o módulo inspercles)\n",
    "\n",
    "3. Faça o desenho das partículas\n",
    "\n",
    "4. Crie uma lista para simular os movimentos do robô. Veja a lista chamada <code>movimentos</code> que é usada na seção *Teste de animação*, mais abaixo\n",
    "\n",
    "5. Crie uma função que aplica um deslocamento [delta_x, delta_y, delta_theta] com um desvio padrão [std_x, std_y, std_theta] a todas as partículas\n",
    "\n",
    "6. Desenhe as partículas após o deslocamento\n",
    "\n",
    "7. Descubra como calcular $P(D|H)$ analisando o Python Notebook. A função que traça os raios está no modulo inspercles\n",
    "\n",
    "Programe a aplicação da equação que está na pág. 853 do livro do Norvig $$P(z_t | x_t) = \\alpha \\prod_{j}^M{e^{\\frac{-(z_j - \\hat{z_j})}{2\\sigma^2}}}$$\n",
    "\n",
    "Ou seja, para cada raio estimado $\\hat{z_j}$ e leitura real $z_j$ calcule a probabilidade daquele raio ter acontecido dado que a posição do robô fosse de fato a da partícula\n",
    "\n",
    "\n",
    "8 . Usando os resultados de 7 calcule $P(H|D)$ e insira numa lista de probabilidades das partículas\n",
    "\n",
    "9 . Reamostre as partículas de forma proporcional à probabilidade\n",
    "\n"
   ]
  },
  {
   "cell_type": "code",
   "execution_count": 1,
   "metadata": {
    "collapsed": false,
    "deletable": true,
    "editable": true
   },
   "outputs": [
    {
     "ename": "ImportError",
     "evalue": "No module named funcoes",
     "output_type": "error",
     "traceback": [
      "\u001b[0;31m---------------------------------------------------------------------------\u001b[0m",
      "\u001b[0;31mImportError\u001b[0m                               Traceback (most recent call last)",
      "\u001b[0;32m<ipython-input-1-2b33eae04727>\u001b[0m in \u001b[0;36m<module>\u001b[0;34m()\u001b[0m\n\u001b[1;32m      6\u001b[0m \u001b[0;32mimport\u001b[0m \u001b[0mmath\u001b[0m\u001b[0;34m\u001b[0m\u001b[0m\n\u001b[1;32m      7\u001b[0m \u001b[0;32mimport\u001b[0m \u001b[0mrandom\u001b[0m\u001b[0;34m\u001b[0m\u001b[0m\n\u001b[0;32m----> 8\u001b[0;31m \u001b[0;32mimport\u001b[0m \u001b[0mfuncoes\u001b[0m\u001b[0;34m\u001b[0m\u001b[0m\n\u001b[0m\u001b[1;32m      9\u001b[0m \u001b[0mreload\u001b[0m\u001b[0;34m(\u001b[0m\u001b[0mfuncoes\u001b[0m\u001b[0;34m)\u001b[0m\u001b[0;34m\u001b[0m\u001b[0m\n\u001b[1;32m     10\u001b[0m \u001b[0;32mfrom\u001b[0m \u001b[0mpf\u001b[0m \u001b[0;32mimport\u001b[0m \u001b[0mParticle\u001b[0m\u001b[0;34m\u001b[0m\u001b[0m\n",
      "\u001b[0;31mImportError\u001b[0m: No module named funcoes"
     ]
    }
   ],
   "source": [
    "from random import randint, choice, gauss\n",
    "import time\n",
    "import matplotlib.pyplot as plt\n",
    "import matplotlib.patches as mpatches\n",
    "import numpy as np\n",
    "import math\n",
    "import random\n",
    "import funcoes\n",
    "reload(funcoes)\n",
    "from pf import Particle\n",
    "from nav_msgs.msg import OccupancyGrid\n",
    "from occupancy_field import OccupancyField\n",
    "from helper_functions import angle_normalize, angle_diff\n",
    "\n",
    "import cv2\n",
    "\n",
    "import sys\n",
    "import os\n",
    "os.getcwd() \n",
    "import sys\n",
    "sys.path.append(os.getcwd())\n",
    "\n",
    "\n",
    "import inspercles\n",
    "reload(inspercles)\n",
    "\n",
    "\n",
    "# Para suprimir alguns warnings do Matplotlib Inline\n",
    "import warnings\n",
    "warnings.simplefilter('ignore')\n",
    "%matplotlib inline\n"
   ]
  },
  {
   "cell_type": "markdown",
   "metadata": {
    "deletable": true,
    "editable": true
   },
   "source": [
    "## Diretõrio de trabalho"
   ]
  },
  {
   "cell_type": "code",
   "execution_count": null,
   "metadata": {
    "collapsed": false,
    "deletable": true,
    "editable": true
   },
   "outputs": [],
   "source": [
    "!pwd"
   ]
  },
  {
   "cell_type": "code",
   "execution_count": null,
   "metadata": {
    "collapsed": false,
    "deletable": true,
    "editable": true
   },
   "outputs": [],
   "source": [
    "n = 10\n",
    "lParticulas = []\n",
    "minx = 10\n",
    "maxx = 20\n",
    "miny = 50\n",
    "maxy = 80\n",
    "lParticulas = funcoes.criaParticulas(n, minx, maxx, miny, maxy)\n",
    "print lParticulas"
   ]
  },
  {
   "cell_type": "code",
   "execution_count": null,
   "metadata": {
    "collapsed": true,
    "deletable": true,
    "editable": true
   },
   "outputs": [],
   "source": []
  },
  {
   "cell_type": "code",
   "execution_count": null,
   "metadata": {
    "collapsed": true,
    "deletable": true,
    "editable": true
   },
   "outputs": [],
   "source": [
    "# Dados do arquivo mapa.yaml\n",
    "\n",
    "resolution = 0.020000\n",
    "origin =  [-5.000000, -5.000000, 0.000000]\n",
    "occupied_thresh = 0.8\n",
    "free_thresh =  0.2\n",
    "\n",
    "inspercles.free_thresh = free_thresh # Limiar em tons de cinza para que uma celula seja considerada livre\n",
    "inspercles.occupied_thresh = occupied_thresh # Limiar de celula ocupada\n",
    "inspercles.origin = origin\n",
    "inspercles.resolution = resolution\n"
   ]
  },
  {
   "cell_type": "code",
   "execution_count": null,
   "metadata": {
    "collapsed": true,
    "deletable": true,
    "editable": true
   },
   "outputs": [],
   "source": [
    "\n",
    "\n",
    "from PIL import Image as PilImage\n",
    "\n",
    "\n",
    "color_image = cv2.imread(\"sparse_obstacles.png\")\n",
    "pil_image = color_image\n",
    "np_image = cv2.cvtColor(color_image, cv2.COLOR_BGR2GRAY)\n",
    "\n",
    "\n",
    "#color_image = PilImage.open(\"sparse_obstacles.png\", 'r')\n",
    "#pil_image = color_image.convert('1') # Converte a imagem PIL para Grayscale\n",
    "#np_image = np.asarray(pil_image)\n",
    "\n",
    "particle_size = 10\n",
    "\n",
    "#import matplotlib_render as plotmap\n",
    "\n",
    "\n",
    "back_color = \"black\"\n",
    "colors     = ['red', 'green', 'cyan', 'yellow']\n",
    "width, height = 775, 746\n",
    "\n",
    "inspercles.width = width\n",
    "inspercles.height = height\n",
    "\n",
    "\n",
    "\n",
    "\n",
    "initial_pose = [330, 200, math.pi/8] # Posicao inicial considerada para o pf\n",
    "inspercles.initial_pose = initial_pose\n",
    "pose = [330, 220, math.radians(90)] # posicao \"verdadeira\" do robo \n",
    "inspercles.pose = pose\n",
    "robot_radius=10   # Raio do robo\n",
    "inspercles.robot_radius = robot_radius\n",
    "\n",
    "\n",
    "# Os angulos em que o robo simulado vai ter sensores\n",
    "angles = np.linspace(0.0, 2*math.pi, num=8)\n",
    "\n",
    "particle_cloud = []\n",
    "\n",
    "\n",
    "\n",
    "    \n",
    "    \n",
    "    \n",
    "    "
   ]
  },
  {
   "cell_type": "markdown",
   "metadata": {
    "deletable": true,
    "editable": true
   },
   "source": [
    "## Mapa com posição inicial"
   ]
  },
  {
   "cell_type": "code",
   "execution_count": null,
   "metadata": {
    "collapsed": false,
    "deletable": true,
    "editable": true
   },
   "outputs": [],
   "source": [
    "inspercles.nb_draw_map(color_image, pose=pose, robot=True)"
   ]
  },
  {
   "cell_type": "markdown",
   "metadata": {
    "deletable": true,
    "editable": true
   },
   "source": [
    "A função *nb_initialize_particle_cloud()* pertence ao módulo <code>inspercles</code> e já faz uma primeira aleatorização das partículas"
   ]
  },
  {
   "cell_type": "code",
   "execution_count": null,
   "metadata": {
    "collapsed": true,
    "deletable": true,
    "editable": true
   },
   "outputs": [],
   "source": [
    "# Inicializa as particulas\n",
    "lParticulas = inspercles.nb_initialize_particle_cloud()"
   ]
  },
  {
   "cell_type": "code",
   "execution_count": null,
   "metadata": {
    "collapsed": false,
    "deletable": true,
    "editable": true,
    "scrolled": false
   },
   "outputs": [],
   "source": [
    "inspercles.nb_draw_map(color_image, particles = lParticulas, initial_position = initial_pose, pose=pose, robot=True)"
   ]
  },
  {
   "cell_type": "code",
   "execution_count": null,
   "metadata": {
    "collapsed": false,
    "deletable": true,
    "editable": true,
    "scrolled": true
   },
   "outputs": [],
   "source": [
    "angles"
   ]
  },
  {
   "cell_type": "markdown",
   "metadata": {
    "deletable": true,
    "editable": true
   },
   "source": [
    "# Simulação da imagem do laser"
   ]
  },
  {
   "cell_type": "markdown",
   "metadata": {
    "deletable": true,
    "editable": true
   },
   "source": [
    "Para simular a leitura **real** do robo, use *nb_simulate_lidar* passando a posição real do robô, os ângulos do sensor e a np_image com o mapa"
   ]
  },
  {
   "cell_type": "code",
   "execution_count": null,
   "metadata": {
    "collapsed": true,
    "deletable": true,
    "editable": true
   },
   "outputs": [],
   "source": [
    "leituras, lidar_map = inspercles.nb_simulate_lidar(pose, angles, np_image)\n"
   ]
  },
  {
   "cell_type": "code",
   "execution_count": null,
   "metadata": {
    "collapsed": false,
    "deletable": true,
    "editable": true
   },
   "outputs": [],
   "source": [
    "ax = inspercles.nb_draw_map(lidar_map, robot=True, pose=pose)\n",
    "ax.imshow(color_image, alpha=0.8)\n",
    "#nb_draw_map(occupancy_image)"
   ]
  },
  {
   "cell_type": "markdown",
   "metadata": {
    "deletable": true,
    "editable": true
   },
   "source": [
    "As leituras serao retornadas pela simulacao do lidar. Sao armazenadas na forma de um dicionario com angulo: valor da leitura"
   ]
  },
  {
   "cell_type": "code",
   "execution_count": null,
   "metadata": {
    "collapsed": false,
    "deletable": true,
    "editable": true
   },
   "outputs": [],
   "source": [
    "# As predicoes teoricas das leituras\n",
    "leituras"
   ]
  },
  {
   "cell_type": "code",
   "execution_count": null,
   "metadata": {
    "collapsed": true,
    "deletable": true,
    "editable": true
   },
   "outputs": [],
   "source": []
  },
  {
   "cell_type": "code",
   "execution_count": null,
   "metadata": {
    "collapsed": false,
    "deletable": true,
    "editable": true
   },
   "outputs": [],
   "source": [
    "ax = inspercles.nb_draw_map(lidar_map, pose=pose, robot=True)\n",
    "#ax.imshow(occupancy_image, alpha=0.2)\n",
    "ax.imshow(pil_image, alpha=0.5)"
   ]
  },
  {
   "cell_type": "code",
   "execution_count": null,
   "metadata": {
    "collapsed": false,
    "deletable": true,
    "editable": true
   },
   "outputs": [],
   "source": [
    "ax = inspercles.nb_draw_map(pil_image, pose=pose, robot=True, particles=lParticulas)\n",
    "#ax.imshow(occupancy_image, alpha=0.2)\n",
    "ax.imshow(lidar_map, alpha=0.5)"
   ]
  },
  {
   "cell_type": "markdown",
   "metadata": {
    "deletable": true,
    "editable": true
   },
   "source": [
    "## Gerando uma animação"
   ]
  },
  {
   "cell_type": "code",
   "execution_count": null,
   "metadata": {
    "collapsed": true,
    "deletable": true,
    "editable": true
   },
   "outputs": [],
   "source": [
    "# Coloque nesta lista os deslocamentos do robo\n",
    "\n",
    "movimentos = [[-10, -10, 0], [-10, 10, 0], [-10,0,0], [-10, 0, 0],\n",
    "              [0,0,math.pi/12], [0, 0, math.pi/12], [0, 0, math.pi/12],[0,0,-math.pi/4],\n",
    "              [-5, 0, 0],[-5,0,0], [-5,0,0], [-10,0,0],[-10,0,0], [-10,0,0],[-10,0,0],[-10,0,0],[-15,0,0],\n",
    "              [0,0,-math.pi/4],[0, 10, 0], [0,10,0], [0, 10, 0], [0,10,0], [0,0,math.pi/8], [0,10,0], [0,10,0], \n",
    "              [0,10,0], [0,10,0], [0,10,0],[0,10,0],\n",
    "              [0,0,-math.radians(90)],\n",
    "              [math.cos(math.pi/3)*10, math.sin(math.pi/3),0],[math.cos(math.pi/3)*10, math.sin(math.pi/3),0],[math.cos(math.pi/3)*10, math.sin(math.pi/3),0],\n",
    "              [math.cos(math.pi/3)*10, math.sin(math.pi/3),0]]\n"
   ]
  },
  {
   "cell_type": "code",
   "execution_count": null,
   "metadata": {
    "collapsed": false,
    "deletable": true,
    "editable": true
   },
   "outputs": [],
   "source": [
    "\n",
    "plt.ioff() # Desliga o modo interativo, para nao aparecerem muitas imagens no meio\n",
    "\n",
    "frames = 1\n",
    "\n",
    "for delta in movimentos:\n",
    "    for i in range(len(pose)):\n",
    "        pose[i]+=delta[i]\n",
    "    lParticulas = funcoes.moveParticulas(lParticulas, delta[0], delta[1], delta[2], 1.5, 1.5, math.pi/12)\n",
    "            \n",
    "    # Simula a leitura do lidar\n",
    "    leituras, lidar_map = inspercles.nb_simulate_lidar(pose, angles, np_image)\n",
    "    \n",
    "    PDH = funcoes.calculaPDH(lParticulas, pose, angles, np_image)\n",
    "    \n",
    "    for i in range(len(lParticulas)):\n",
    "        lParticulas[i].w = PDH[i]\n",
    "        \n",
    "    \n",
    "    particulas_pesos = [p.w for p in lParticulas]\n",
    "    novas_particulas = Particle.draw_random_sample(lParticulas, particulas_pesos, len(lParticulas))\n",
    "    \n",
    "    for p in novas_particulas:\n",
    "        p.x += gauss(0, 1.5)\n",
    "        p.y += gauss(0, 1.5)\n",
    "        p.theta += gauss(0, math.pi/180)\n",
    "        \n",
    "    lParticulas = novas_particulas\n",
    "    \n",
    "    # Desenha as particulas\n",
    "    ax = inspercles.nb_draw_map(color_image, pose=pose, robot=True, particles=lParticulas)\n",
    "    #ax.imshow(occupancy_image, alph.2)\n",
    "    # Desenha o mapa do lidar\n",
    "    ax.imshow(lidar_map, alpha=0.5)\n",
    "    \n",
    "    plt.savefig(\"anim%04d.png\"%frames, bounds=\"tight\")\n",
    "    \n",
    "    frames+=1\n",
    "    plt.close('all')\n",
    "\n",
    "\n",
    "plt.ion()\n",
    "\n"
   ]
  },
  {
   "cell_type": "markdown",
   "metadata": {
    "deletable": true,
    "editable": true
   },
   "source": [
    "Para gerar os gifs é preciso ter o pacote *imagemagick*\n",
    "\n",
    "O imagemagick pode ser obtido com o seguinte comando:\n",
    "    sudo apt-get install imagemagick \n",
    "    \n",
    "Agora vamos invocar na linha de comando o seguinte comando:\n",
    "    convert -delay 10 -loop 1 anim*png animated.gif\n",
    "    \n",
    "Este comando criou um arquivo chamado *animated.fig*, que leremos abaixo:\n",
    "    "
   ]
  },
  {
   "cell_type": "code",
   "execution_count": null,
   "metadata": {
    "collapsed": false,
    "deletable": true,
    "editable": true
   },
   "outputs": [],
   "source": [
    "!convert -delay 10 -loop 1 anim*png animated.gif"
   ]
  },
  {
   "cell_type": "markdown",
   "metadata": {
    "deletable": true,
    "editable": true
   },
   "source": [
    "Infelizmente o IPython Notebook 2 nao parece exibir animacoes em Gif por default, mas voce pode abrir o arquivo no diretorio de trabalho e devera'  ve-lo.\n",
    "\n",
    "<img src=\"animated.gif\">"
   ]
  },
  {
   "cell_type": "code",
   "execution_count": null,
   "metadata": {
    "collapsed": true,
    "deletable": true,
    "editable": true
   },
   "outputs": [],
   "source": []
  },
  {
   "cell_type": "code",
   "execution_count": null,
   "metadata": {
    "collapsed": true,
    "deletable": true,
    "editable": true
   },
   "outputs": [],
   "source": []
  },
  {
   "cell_type": "code",
   "execution_count": null,
   "metadata": {
    "collapsed": true,
    "deletable": true,
    "editable": true
   },
   "outputs": [],
   "source": []
  },
  {
   "cell_type": "code",
   "execution_count": null,
   "metadata": {
    "collapsed": true,
    "deletable": true,
    "editable": true
   },
   "outputs": [],
   "source": []
  },
  {
   "cell_type": "markdown",
   "metadata": {
    "deletable": true,
    "editable": true
   },
   "source": [
    "![](anim.gif)"
   ]
  },
  {
   "cell_type": "code",
   "execution_count": null,
   "metadata": {
    "collapsed": true,
    "deletable": true,
    "editable": true
   },
   "outputs": [],
   "source": []
  },
  {
   "cell_type": "code",
   "execution_count": null,
   "metadata": {
    "collapsed": true,
    "deletable": true,
    "editable": true
   },
   "outputs": [],
   "source": []
  },
  {
   "cell_type": "code",
   "execution_count": null,
   "metadata": {
    "collapsed": true,
    "deletable": true,
    "editable": true
   },
   "outputs": [],
   "source": []
  },
  {
   "cell_type": "code",
   "execution_count": null,
   "metadata": {
    "collapsed": true,
    "deletable": true,
    "editable": true
   },
   "outputs": [],
   "source": []
  },
  {
   "cell_type": "code",
   "execution_count": null,
   "metadata": {
    "collapsed": true,
    "deletable": true,
    "editable": true
   },
   "outputs": [],
   "source": []
  }
 ],
 "metadata": {
  "kernelspec": {
   "display_name": "Python 2",
   "language": "python",
   "name": "python2"
  },
  "language_info": {
   "codemirror_mode": {
    "name": "ipython",
    "version": 2
   },
   "file_extension": ".py",
   "mimetype": "text/x-python",
   "name": "python",
   "nbconvert_exporter": "python",
   "pygments_lexer": "ipython2",
   "version": "2.7.6"
  }
 },
 "nbformat": 4,
 "nbformat_minor": 1
}
